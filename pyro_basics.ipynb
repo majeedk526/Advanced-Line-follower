{
  "nbformat": 4,
  "nbformat_minor": 0,
  "metadata": {
    "colab": {
      "name": "pyro_basics.ipynb",
      "version": "0.3.2",
      "provenance": [],
      "collapsed_sections": [],
      "include_colab_link": true
    },
    "kernelspec": {
      "name": "python3",
      "display_name": "Python 3"
    }
  },
  "cells": [
    {
      "cell_type": "markdown",
      "metadata": {
        "id": "view-in-github",
        "colab_type": "text"
      },
      "source": [
        "<a href=\"https://colab.research.google.com/github/majeedk526/Advanced-Line-follower/blob/master/pyro_basics.ipynb\" target=\"_parent\"><img src=\"https://colab.research.google.com/assets/colab-badge.svg\" alt=\"Open In Colab\"/></a>"
      ]
    },
    {
      "cell_type": "markdown",
      "metadata": {
        "id": "0ytJCsGRonWh",
        "colab_type": "text"
      },
      "source": [
        "from: https://pyro.ai/examples/intro_part_i.html"
      ]
    },
    {
      "cell_type": "code",
      "metadata": {
        "id": "pe01GKbrpHEc",
        "colab_type": "code",
        "colab": {}
      },
      "source": [
        "# ! pip install pyro-ppl"
      ],
      "execution_count": 0,
      "outputs": []
    },
    {
      "cell_type": "code",
      "metadata": {
        "id": "WOK4UXDxospL",
        "colab_type": "code",
        "colab": {}
      },
      "source": [
        "import torch\n",
        "import pyro\n",
        "\n",
        "pyro.set_rng_seed(101)"
      ],
      "execution_count": 0,
      "outputs": []
    },
    {
      "cell_type": "code",
      "metadata": {
        "id": "kFbXXAwlo8JQ",
        "colab_type": "code",
        "outputId": "7a16996b-3f9e-4f63-b24f-5e955815c782",
        "colab": {
          "base_uri": "https://localhost:8080/",
          "height": 51
        }
      },
      "source": [
        "normal = torch.distributions.Normal(loc=0, scale=1)\n",
        "x = normal.rsample()\n",
        "print(\"sample \", x)\n",
        "print(\"log_prob\", normal.log_prob(x))"
      ],
      "execution_count": 0,
      "outputs": [
        {
          "output_type": "stream",
          "text": [
            "sample  tensor(-1.3905)\n",
            "log_prob tensor(-1.8857)\n"
          ],
          "name": "stdout"
        }
      ]
    },
    {
      "cell_type": "code",
      "metadata": {
        "id": "j1ixPVsKqNph",
        "colab_type": "code",
        "outputId": "82711c74-7dd1-4ce7-c644-957d57a53029",
        "colab": {
          "base_uri": "https://localhost:8080/",
          "height": 51
        }
      },
      "source": [
        "def weather():\n",
        "  cloudy = torch.distributions.Bernoulli(0.3).sample()\n",
        "  print(\"cloudy: \", cloudy)\n",
        "  weather = \"cloudy\" if cloudy.item()==1.0 else \"sunny\"\n",
        "  mean_temp = {\"cloudy\": 50, \"sunny\":75}[weather]\n",
        "  scale_temp = {\"cloudy\": 10, \"sunny\": 15}[weather]\n",
        "  temp = torch.distributions.Normal(mean_temp, scale_temp).rsample()\n",
        "  \n",
        "  return weather, temp.item()\n",
        "  \n",
        "\n",
        "  \n",
        "print(weather())"
      ],
      "execution_count": 0,
      "outputs": [
        {
          "output_type": "stream",
          "text": [
            "cloudy:  tensor(1.)\n",
            "('cloudy', 41.847618103027344)\n"
          ],
          "name": "stdout"
        }
      ]
    },
    {
      "cell_type": "code",
      "metadata": {
        "id": "Xr7hzfcLrkOc",
        "colab_type": "code",
        "outputId": "a997ebb7-0e06-4714-b7c9-94222b1a58bc",
        "colab": {
          "base_uri": "https://localhost:8080/",
          "height": 51
        }
      },
      "source": [
        "def weather():\n",
        "  cloudy = pyro.sample(\"cloudy\", pyro.distributions.Bernoulli(0.3))\n",
        "  print(\"cloudy: \", cloudy)\n",
        "  weather = \"cloudy\" if cloudy.item()==1.0 else \"sunny\"\n",
        "  mean_temp = {\"cloudy\": 50, \"sunny\":75}[weather]\n",
        "  scale_temp = {\"cloudy\": 10, \"sunny\": 15}[weather]\n",
        "  temp = pyro.sample(\"temp\", pyro.distributions.Normal(mean_temp, scale_temp))\n",
        "  \n",
        "  return weather, temp.item()\n",
        "  \n",
        "\n",
        "print(weather())"
      ],
      "execution_count": 0,
      "outputs": [
        {
          "output_type": "stream",
          "text": [
            "cloudy:  tensor(1.)\n",
            "('cloudy', 48.20433807373047)\n"
          ],
          "name": "stdout"
        }
      ]
    },
    {
      "cell_type": "code",
      "metadata": {
        "id": "HisUCb1OPj5p",
        "colab_type": "code",
        "colab": {}
      },
      "source": [
        ""
      ],
      "execution_count": 0,
      "outputs": []
    },
    {
      "cell_type": "markdown",
      "metadata": {
        "id": "OwDx4yOHPlxz",
        "colab_type": "text"
      },
      "source": [
        "## An Introduction to Inference in Pyro"
      ]
    },
    {
      "cell_type": "code",
      "metadata": {
        "id": "pKHPDFiJPmsa",
        "colab_type": "code",
        "colab": {}
      },
      "source": [
        "import matplotlib.pyplot as plt\n",
        "import numpy as np\n",
        "import torch\n",
        "\n",
        "import pyro\n",
        "import pyro.infer\n",
        "import pyro.optim\n",
        "import pyro.distributions as dist\n",
        "\n",
        "pyro.set_rng_seed(101)"
      ],
      "execution_count": 0,
      "outputs": []
    },
    {
      "cell_type": "code",
      "metadata": {
        "id": "ysOGYp8aR8Ak",
        "colab_type": "code",
        "outputId": "c558aefc-94eb-4683-a6de-2fd3c6d4d373",
        "colab": {
          "base_uri": "https://localhost:8080/",
          "height": 34
        }
      },
      "source": [
        "def scale(guess):\n",
        "  weight = pyro.sample('weight', dist.Normal(guess,1))\n",
        "  measurement = pyro.sample('measurement',dist.Normal(weight,0.75))\n",
        "  \n",
        "  return measurement\n",
        "\n",
        "print(scale(0.5))"
      ],
      "execution_count": 5,
      "outputs": [
        {
          "output_type": "stream",
          "text": [
            "tensor(-1.5019)\n"
          ],
          "name": "stdout"
        }
      ]
    },
    {
      "cell_type": "code",
      "metadata": {
        "id": "aCsXQBobSk1u",
        "colab_type": "code",
        "outputId": "1347ecae-6da4-49df-a596-d4fe33e4ad63",
        "colab": {
          "base_uri": "https://localhost:8080/",
          "height": 34
        }
      },
      "source": [
        "conditioned_scale = pyro.condition(scale, {\"measurement\": 7.3})\n",
        "conditioned_scale(0.2)"
      ],
      "execution_count": 6,
      "outputs": [
        {
          "output_type": "execute_result",
          "data": {
            "text/plain": [
              "7.3"
            ]
          },
          "metadata": {
            "tags": []
          },
          "execution_count": 6
        }
      ]
    },
    {
      "cell_type": "code",
      "metadata": {
        "id": "LbzJediD7-2U",
        "colab_type": "code",
        "colab": {}
      },
      "source": [
        "def scale_parametrized_guide(guess):\n",
        "    a = pyro.param(\"a\", torch.tensor(guess))\n",
        "    b = pyro.param(\"b\", torch.tensor(1.))\n",
        "    return pyro.sample(\"weight\", dist.Normal(a, torch.abs(b)))"
      ],
      "execution_count": 0,
      "outputs": []
    },
    {
      "cell_type": "code",
      "metadata": {
        "id": "J-lSYFkQUbWy",
        "colab_type": "code",
        "colab": {
          "base_uri": "https://localhost:8080/",
          "height": 329
        },
        "outputId": "4acbf4c3-98a7-4f07-d6d6-260889525b52"
      },
      "source": [
        "guess = 8.5\n",
        "\n",
        "pyro.clear_param_store()\n",
        "svi = pyro.infer.SVI(\n",
        "    model=conditioned_scale,\n",
        "    guide=scale_parametrized_guide,\n",
        "    optim=pyro.optim.SGD({'lr':0.001, 'momentum':0.1}),\n",
        "    loss=pyro.infer.Trace_ELBO()\n",
        ")\n",
        "\n",
        "losses, a, b = [], [], []\n",
        "num_steps=2500\n",
        "for t in range(num_steps):\n",
        "  losses.append(svi.step(guess))\n",
        "  a.append(pyro.param(\"a\").item())\n",
        "  b.append(pyro.param(\"b\").item())\n",
        "  \n",
        "plt.plot(losses)\n",
        "plt.title(\"ELBO\")\n",
        "plt.xlabel(\"step\")\n",
        "plt.ylabel(\"loss\");\n",
        "print('a = ',pyro.param(\"a\").item())\n",
        "print('b = ', pyro.param(\"b\").item())"
      ],
      "execution_count": 9,
      "outputs": [
        {
          "output_type": "stream",
          "text": [
            "a =  7.703725337982178\n",
            "b =  0.6303155422210693\n"
          ],
          "name": "stdout"
        },
        {
          "output_type": "display_data",
          "data": {
            "image/png": "[encoded data removed]",
            "text/plain": [
              "<Figure size 432x288 with 1 Axes>"
            ]
          },
          "metadata": {
            "tags": []
          }
        }
      ]
    },
    {
      "cell_type": "code",
      "metadata": {
        "id": "TiJt9NLG_BQE",
        "colab_type": "code",
        "colab": {}
      },
      "source": [
        ""
      ],
      "execution_count": 0,
      "outputs": []
    }
  ]
}